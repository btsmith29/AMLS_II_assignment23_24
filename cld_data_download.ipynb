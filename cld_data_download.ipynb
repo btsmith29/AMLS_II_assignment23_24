{
  "nbformat": 4,
  "nbformat_minor": 0,
  "metadata": {
    "colab": {
      "provenance": [],
      "mount_file_id": "17fe4yq4aZX3vzinz73bLvn8m-3djSQN3",
      "authorship_tag": "ABX9TyMRcu7WSdC3CNjNe8HulLZ7"
    },
    "kernelspec": {
      "name": "python3",
      "display_name": "Python 3"
    },
    "language_info": {
      "name": "python"
    }
  },
  "cells": [
    {
      "cell_type": "code",
      "source": [
        "!pip install -q kaggle"
      ],
      "metadata": {
        "id": "6vO42g39VGFW"
      },
      "execution_count": null,
      "outputs": []
    },
    {
      "cell_type": "code",
      "execution_count": 38,
      "metadata": {
        "id": "5uWbYrAEDnzC"
      },
      "outputs": [],
      "source": [
        "from google.colab import drive, files, userdata\n",
        "\n",
        "from PIL import Image\n",
        "import matplotlib.pyplot as plt\n",
        "from pathlib import Path\n",
        "\n",
        "import json"
      ]
    },
    {
      "cell_type": "code",
      "source": [
        "drive.mount('/content/gdrive')"
      ],
      "metadata": {
        "colab": {
          "base_uri": "https://localhost:8080/"
        },
        "id": "-GaCPR_GD2Ja",
        "outputId": "6623d493-0aad-42e7-dc2e-80432c98a688"
      },
      "execution_count": 2,
      "outputs": [
        {
          "output_type": "stream",
          "name": "stdout",
          "text": [
            "Mounted at /content/gdrive\n"
          ]
        }
      ]
    },
    {
      "cell_type": "code",
      "source": [
        "kaggle_username = userdata.get('kaggle_username')\n",
        "kaggle_key = userdata.get('kaggle_key')\n",
        "creds_dict = {\"username\": kaggle_username, \"key\": kaggle_key}"
      ],
      "metadata": {
        "id": "O1pjPZ-eTDW1"
      },
      "execution_count": 43,
      "outputs": []
    },
    {
      "cell_type": "code",
      "source": [
        "with open('kaggle.json', 'w') as file:\n",
        "     file.write(json.dumps(creds_dict))"
      ],
      "metadata": {
        "id": "IfS9x7xHUY8-"
      },
      "execution_count": 44,
      "outputs": []
    },
    {
      "cell_type": "code",
      "source": [
        "!mkdir -p ~/.kaggle\n",
        "!cp kaggle.json ~/.kaggle/\n",
        "!chmod 600 ~/.kaggle/kaggle.json"
      ],
      "metadata": {
        "id": "B2Xop9fnEYyK"
      },
      "execution_count": 45,
      "outputs": []
    },
    {
      "cell_type": "code",
      "source": [
        "!kaggle competitions download -c cassava-leaf-disease-classification"
      ],
      "metadata": {
        "colab": {
          "base_uri": "https://localhost:8080/"
        },
        "id": "nR2yfCDHE2As",
        "outputId": "3d83b285-886f-4770-f1d7-e5b0c34f0932"
      },
      "execution_count": 8,
      "outputs": [
        {
          "output_type": "stream",
          "name": "stdout",
          "text": [
            "Downloading cassava-leaf-disease-classification.zip to /content\n",
            "100% 5.76G/5.76G [01:04<00:00, 164MB/s]\n",
            "100% 5.76G/5.76G [01:04<00:00, 95.9MB/s]\n"
          ]
        }
      ]
    },
    {
      "cell_type": "code",
      "source": [
        "!unzip -q cassava-leaf-disease-classification.zip"
      ],
      "metadata": {
        "colab": {
          "base_uri": "https://localhost:8080/"
        },
        "id": "08qBSDcgFtpX",
        "outputId": "644f9c1c-38c3-4c0c-a42f-f4ffaa227e6a"
      },
      "execution_count": 49,
      "outputs": [
        {
          "output_type": "stream",
          "name": "stdout",
          "text": [
            "replace label_num_to_disease_map.json? [y]es, [n]o, [A]ll, [N]one, [r]ename: N\n"
          ]
        }
      ]
    },
    {
      "cell_type": "code",
      "source": [
        "!mkdir -p \"/content/train_images_small\""
      ],
      "metadata": {
        "id": "ewrcUuvIPNPj"
      },
      "execution_count": 26,
      "outputs": []
    },
    {
      "cell_type": "code",
      "source": [
        "path = Path(\"/content/train_images/\")\n",
        "for img in path.glob(\"*.jpg\"):\n",
        "  im = Image.open(img)\n",
        "  im = im.resize((340, 255), 0)\n",
        "  im.save(f\"/content/train_images_small/{img.name}\")"
      ],
      "metadata": {
        "id": "ZwGG3fNePNHx"
      },
      "execution_count": 31,
      "outputs": []
    },
    {
      "cell_type": "code",
      "source": [
        "!tar czf /content/small.tar.gz /content/train_images_small/"
      ],
      "metadata": {
        "colab": {
          "base_uri": "https://localhost:8080/"
        },
        "id": "JPXcWeoyRU0R",
        "outputId": "763e13cd-4799-442a-9dae-e90dafd2a11f"
      },
      "execution_count": 52,
      "outputs": [
        {
          "output_type": "stream",
          "name": "stdout",
          "text": [
            "tar: Removing leading `/' from member names\n"
          ]
        }
      ]
    },
    {
      "cell_type": "code",
      "source": [
        "!cp /content/small.tar.gz /content/gdrive/MyDrive/Study/"
      ],
      "metadata": {
        "id": "hxm9Jpx8SbJV"
      },
      "execution_count": 33,
      "outputs": []
    }
  ]
}