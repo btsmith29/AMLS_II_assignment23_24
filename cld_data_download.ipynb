{
  "nbformat": 4,
  "nbformat_minor": 0,
  "metadata": {
    "colab": {
      "provenance": [],
      "mount_file_id": "17fe4yq4aZX3vzinz73bLvn8m-3djSQN3",
      "authorship_tag": "ABX9TyN7LKpHPS5GWr32Z6GWiM71"
    },
    "kernelspec": {
      "name": "python3",
      "display_name": "Python 3"
    },
    "language_info": {
      "name": "python"
    }
  },
  "cells": [
    {
      "cell_type": "markdown",
      "source": [
        "# Cassava Leaf Disease Data Download\n",
        "\n",
        "Interactive Notebook to download the data from Kaggle and store it on Google Drive, for the purposes of the assignment."
      ],
      "metadata": {
        "id": "L6zBC7OAoJcB"
      }
    },
    {
      "cell_type": "code",
      "source": [
        "!pip install -q kaggle"
      ],
      "metadata": {
        "id": "6vO42g39VGFW"
      },
      "execution_count": 1,
      "outputs": []
    },
    {
      "cell_type": "code",
      "execution_count": 15,
      "metadata": {
        "id": "5uWbYrAEDnzC"
      },
      "outputs": [],
      "source": [
        "from google.colab import drive, files, userdata\n",
        "from pathlib import Path\n",
        "from PIL import Image\n",
        "\n",
        "import json\n",
        "import matplotlib.pyplot as plt\n",
        "import zipfile"
      ]
    },
    {
      "cell_type": "code",
      "source": [
        "drive.mount('/content/gdrive')"
      ],
      "metadata": {
        "colab": {
          "base_uri": "https://localhost:8080/"
        },
        "id": "-GaCPR_GD2Ja",
        "outputId": "0510b37a-346f-41ef-a89b-4af82bcde671"
      },
      "execution_count": 3,
      "outputs": [
        {
          "output_type": "stream",
          "name": "stdout",
          "text": [
            "Mounted at /content/gdrive\n"
          ]
        }
      ]
    },
    {
      "cell_type": "code",
      "source": [
        "def mkdir(path_str: str) -> Path:\n",
        "  path = Path(path_str)\n",
        "  path.mkdir(parents=True, exist_ok=True)\n",
        "  return path"
      ],
      "metadata": {
        "id": "phPcYLz4tgHw"
      },
      "execution_count": 22,
      "outputs": []
    },
    {
      "cell_type": "code",
      "source": [
        "def load_kaggle_creds() -> None:\n",
        "  \"\"\"\n",
        "  Creates the kaggle.json credentials file, which the API expects.\n",
        "  \"\"\"\n",
        "  kaggle_username = userdata.get('kaggle_username')\n",
        "  kaggle_key = userdata.get('kaggle_key')\n",
        "  creds_dict = {\"username\": kaggle_username, \"key\": kaggle_key}\n",
        "\n",
        "  with open('kaggle.json', 'w') as file:\n",
        "     file.write(json.dumps(creds_dict))\n",
        "\n",
        "  !mkdir -p ~/.kaggle\n",
        "  !cp kaggle.json ~/.kaggle/\n",
        "  !chmod 600 ~/.kaggle/kaggle.json"
      ],
      "metadata": {
        "id": "x2hdW6G0YZ44"
      },
      "execution_count": 4,
      "outputs": []
    },
    {
      "cell_type": "code",
      "source": [
        "def download_competition_data() -> Path:\n",
        "  # load_kaggle_creds()\n",
        "  # !kaggle competitions download -c cassava-leaf-disease-classification\n",
        "  path = mkdir(\"/content/data/cassava-leaf-disease-classification\")\n",
        "  with zipfile.ZipFile(\"cassava-leaf-disease-classification.zip\", 'r') as z:\n",
        "    z.extractall(path)\n",
        "  return path"
      ],
      "metadata": {
        "id": "j7hwrkSqqnk7"
      },
      "execution_count": 28,
      "outputs": []
    },
    {
      "cell_type": "code",
      "source": [
        "!rm -rf \"/content/data/cassava-leaf-disease-classification\""
      ],
      "metadata": {
        "id": "ycM3Nkm_ubZ5"
      },
      "execution_count": 29,
      "outputs": []
    },
    {
      "cell_type": "code",
      "source": [
        "def create_assignment_dataset(raw_path: Path) -> Path:\n",
        "  dataset_path = mkdir(\"/content/data/cldc_assignment_data\")\n",
        "\n",
        "  src_path = raw_path / \"train_images\"\n",
        "  dest_path = dataset_path / \"train_images\"\n",
        "  dest_path.mkdir(parents=True, exist_ok=True)\n",
        "\n",
        "  for img in src_path.glob(\"*.jpg\"):\n",
        "    im = Image.open(img)\n",
        "    # images are (800, 600), resize to (X, 255)\n",
        "    h = 255\n",
        "    im = im.resize((h*(8/6), h), 0)\n",
        "    im.save((dest_path / img.name))\n",
        "\n",
        "  return dataset_path\n"
      ],
      "metadata": {
        "id": "jFMbNwkcsUHk"
      },
      "execution_count": 33,
      "outputs": []
    },
    {
      "cell_type": "markdown",
      "source": [],
      "metadata": {
        "id": "7VmmG-jyspa2"
      }
    },
    {
      "cell_type": "code",
      "source": [
        "raw_data_path = download_competition_data()\n",
        "ds = create_assignment_dataset(raw_data_path)"
      ],
      "metadata": {
        "id": "nR2yfCDHE2As"
      },
      "execution_count": 30,
      "outputs": []
    },
    {
      "cell_type": "code",
      "source": [
        "!tar czf /content/assignment_data.tar.gz /content/data/cldc_assignment_data"
      ],
      "metadata": {
        "colab": {
          "base_uri": "https://localhost:8080/"
        },
        "id": "JPXcWeoyRU0R",
        "outputId": "416bc492-0778-447c-e4b7-d18f85163d96"
      },
      "execution_count": 35,
      "outputs": [
        {
          "output_type": "stream",
          "name": "stdout",
          "text": [
            "tar: Removing leading `/' from member names\n"
          ]
        }
      ]
    },
    {
      "cell_type": "code",
      "source": [
        "!cp /content/assignment_data.tar.gz /content/gdrive/MyDrive/Study/ds_and_ml/UCL_AMLSII/assignment/"
      ],
      "metadata": {
        "id": "hxm9Jpx8SbJV"
      },
      "execution_count": 37,
      "outputs": []
    }
  ]
}