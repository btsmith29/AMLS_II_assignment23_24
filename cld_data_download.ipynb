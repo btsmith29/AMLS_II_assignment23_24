{
  "nbformat": 4,
  "nbformat_minor": 0,
  "metadata": {
    "colab": {
      "provenance": [],
      "mount_file_id": "17fe4yq4aZX3vzinz73bLvn8m-3djSQN3",
      "authorship_tag": "ABX9TyOQ3raOPrZXNbovSVLMt49c",
      "include_colab_link": true
    },
    "kernelspec": {
      "name": "python3",
      "display_name": "Python 3"
    },
    "language_info": {
      "name": "python"
    }
  },
  "cells": [
    {
      "cell_type": "markdown",
      "metadata": {
        "id": "view-in-github",
        "colab_type": "text"
      },
      "source": [
        "<a href=\"https://colab.research.google.com/github/btsmith29/AMLS_II_assignment23_24/blob/main/cld_data_download.ipynb\" target=\"_parent\"><img src=\"https://colab.research.google.com/assets/colab-badge.svg\" alt=\"Open In Colab\"/></a>"
      ]
    },
    {
      "cell_type": "markdown",
      "source": [
        "# Cassava Leaf Disease Data Download\n",
        "\n",
        "Interactive Notebook to download the data from Kaggle and store it on Google Drive for the purposes of the assignment.\n",
        "\n",
        "Not designed to be re-run as part of the assessment, per se, as it has a dependency on Google Drive and Kaggle API secrets.\n",
        "\n",
        "To limit the amount of storage required, the `tfrecords` are ignored.\n",
        "\n"
      ],
      "metadata": {
        "id": "L6zBC7OAoJcB"
      }
    },
    {
      "cell_type": "code",
      "source": [
        "!pip install -q kaggle"
      ],
      "metadata": {
        "id": "6vO42g39VGFW"
      },
      "execution_count": 1,
      "outputs": []
    },
    {
      "cell_type": "code",
      "execution_count": 2,
      "metadata": {
        "id": "5uWbYrAEDnzC"
      },
      "outputs": [],
      "source": [
        "from google.colab import drive, files, userdata\n",
        "from pathlib import Path\n",
        "from PIL import Image\n",
        "\n",
        "import json\n",
        "import matplotlib.pyplot as plt\n",
        "import shutil\n",
        "import zipfile"
      ]
    },
    {
      "cell_type": "code",
      "source": [
        "drive.mount(\"/content/gdrive\")"
      ],
      "metadata": {
        "colab": {
          "base_uri": "https://localhost:8080/"
        },
        "id": "-GaCPR_GD2Ja",
        "outputId": "66748a70-79c9-4886-b734-ed43ef6492a1"
      },
      "execution_count": 3,
      "outputs": [
        {
          "output_type": "stream",
          "name": "stdout",
          "text": [
            "Mounted at /content/gdrive\n"
          ]
        }
      ]
    },
    {
      "cell_type": "code",
      "source": [
        "def mkdir(path_str: str) -> Path:\n",
        "  path = Path(path_str)\n",
        "  path.mkdir(parents=True, exist_ok=True)\n",
        "  return path\n",
        "\n",
        "\n",
        "def load_kaggle_creds() -> None:\n",
        "  \"\"\"\n",
        "  Creates the kaggle.json credentials file, which the API expects.\n",
        "  \"\"\"\n",
        "  # Stored in the Colab secrets store.\n",
        "  kaggle_username = userdata.get(\"kaggle_username\")\n",
        "  kaggle_key = userdata.get(\"kaggle_key\")\n",
        "  creds_dict = {\"username\": kaggle_username, \"key\": kaggle_key}\n",
        "\n",
        "  with open(\"kaggle.json\", \"w\") as file:\n",
        "     file.write(json.dumps(creds_dict))\n",
        "\n",
        "  !mkdir -p ~/.kaggle\n",
        "  !cp kaggle.json ~/.kaggle/\n",
        "  !chmod 600 ~/.kaggle/kaggle.json\n",
        "\n",
        "\n",
        "def download_competition_data() -> Path:\n",
        "  \"\"\"\n",
        "  Download & Extract the competition dataset from Kaggle.\n",
        "  \"\"\"\n",
        "  load_kaggle_creds()\n",
        "  !kaggle competitions download -c cassava-leaf-disease-classification\n",
        "  path = mkdir(\"/content/data/cassava-leaf-disease-classification\")\n",
        "  with zipfile.ZipFile(\"cassava-leaf-disease-classification.zip\", \"r\") as z:\n",
        "    z.extractall(path)\n",
        "  return path\n",
        "\n",
        "\n",
        "def create_assignment_dataset(raw_path: Path) -> Path:\n",
        "  \"\"\"\n",
        "  Processes the raw competition dataset to make it more suitable for the\n",
        "  purposes of the assignement.  Just take the trainining images (ignoring the\n",
        "  tfrecords format) and metadata (labels etc).\n",
        "  \"\"\"\n",
        "  dataset_path = mkdir(\"/content/data/cldc_assignment_data\")\n",
        "\n",
        "  src_path = raw_path / \"train_images\"\n",
        "  dest_path = dataset_path / \"train_images\"\n",
        "  dest_path.mkdir(parents=True, exist_ok=True)\n",
        "\n",
        "  for img in src_path.glob(\"*.jpg\"):\n",
        "    # im = Image.open(img)\n",
        "    # # images are (800, 600), resize to (X, 255)\n",
        "    # h = 255\n",
        "    # w = int(h*(8/6))\n",
        "    # im = im.resize((w, h), 0)\n",
        "    # im.save((dest_path / img.name))\n",
        "    shutil.copy(img, (dest_path / img.name))\n",
        "\n",
        "  # also need the labels and the mapping description\n",
        "  for f in [\"train.csv\", \"label_num_to_disease_map.json\"]:\n",
        "    shutil.copy((raw_path / f), dataset_path)\n",
        "\n",
        "  return dataset_path\n",
        "\n",
        "\n",
        "def zip_and_copy_to_drive(data: Path) -> None:\n",
        "  zip_file = shutil.make_archive(\"/content/assignment_data\", 'zip', data)\n",
        "  shutil.copy(zip_file,\n",
        "              \"/content/gdrive/MyDrive/Study/ds_and_ml/UCL_AMLSII/assignment/\")\n",
        "\n",
        "\n",
        "def main() -> None:\n",
        "  raw_data_path = download_competition_data()\n",
        "  dataset_path = create_assignment_dataset(raw_data_path)\n",
        "  zip_and_copy_to_drive(dataset_path)"
      ],
      "metadata": {
        "id": "phPcYLz4tgHw"
      },
      "execution_count": 4,
      "outputs": []
    },
    {
      "cell_type": "code",
      "source": [
        "main()"
      ],
      "metadata": {
        "colab": {
          "base_uri": "https://localhost:8080/"
        },
        "id": "eo54_mhtW_6I",
        "outputId": "1c2a8b70-febe-4629-ad3a-a21c5609bf42"
      },
      "execution_count": 5,
      "outputs": [
        {
          "output_type": "stream",
          "name": "stdout",
          "text": [
            "Downloading cassava-leaf-disease-classification.zip to /content\n",
            "100% 5.76G/5.76G [01:01<00:00, 161MB/s]\n",
            "100% 5.76G/5.76G [01:01<00:00, 100MB/s]\n"
          ]
        }
      ]
    },
    {
      "cell_type": "code",
      "source": [
        "#!rm -rf \"/content/data\""
      ],
      "metadata": {
        "id": "wehTVkH3ZyMS"
      },
      "execution_count": 6,
      "outputs": []
    }
  ]
}