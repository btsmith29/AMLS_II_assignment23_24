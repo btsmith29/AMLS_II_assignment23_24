{
 "cells": [
  {
   "cell_type": "code",
   "execution_count": 1,
   "id": "daf0c1a8",
   "metadata": {
    "execution": {
     "iopub.execute_input": "2024-02-16T22:39:23.629247Z",
     "iopub.status.busy": "2024-02-16T22:39:23.628389Z",
     "iopub.status.idle": "2024-02-16T22:39:38.033584Z",
     "shell.execute_reply": "2024-02-16T22:39:38.032602Z"
    },
    "papermill": {
     "duration": 14.415589,
     "end_time": "2024-02-16T22:39:38.036267",
     "exception": false,
     "start_time": "2024-02-16T22:39:23.620678",
     "status": "completed"
    },
    "tags": []
   },
   "outputs": [
    {
     "name": "stderr",
     "output_type": "stream",
     "text": [
      "2024-02-16 22:39:26.217610: E external/local_xla/xla/stream_executor/cuda/cuda_dnn.cc:9261] Unable to register cuDNN factory: Attempting to register factory for plugin cuDNN when one has already been registered\n",
      "2024-02-16 22:39:26.217725: E external/local_xla/xla/stream_executor/cuda/cuda_fft.cc:607] Unable to register cuFFT factory: Attempting to register factory for plugin cuFFT when one has already been registered\n",
      "2024-02-16 22:39:26.347793: E external/local_xla/xla/stream_executor/cuda/cuda_blas.cc:1515] Unable to register cuBLAS factory: Attempting to register factory for plugin cuBLAS when one has already been registered\n"
     ]
    }
   ],
   "source": [
    "import numpy as np\n",
    "import pandas as pd\n",
    "import keras\n",
    "import shutil\n",
    "import tensorflow as tf\n",
    "\n",
    "import seaborn as sns\n",
    "\n",
    "from pathlib import Path\n",
    "from tensorflow import keras\n",
    "from tensorflow.keras import layers, callbacks\n",
    "from tensorflow.keras.models import Model\n",
    "from tensorflow.keras.layers.experimental import preprocessing\n",
    "from tensorflow.keras.preprocessing import image_dataset_from_directory"
   ]
  },
  {
   "cell_type": "markdown",
   "id": "68a76a14",
   "metadata": {
    "papermill": {
     "duration": 0.00556,
     "end_time": "2024-02-16T22:39:38.048043",
     "exception": false,
     "start_time": "2024-02-16T22:39:38.042483",
     "status": "completed"
    },
    "tags": []
   },
   "source": [
    "# ELEC0135 Assignment\n",
    "\n",
    "## Introduction\n",
    "\n",
    "Based on the competition here: https://www.kaggle.com/competitions/cassava-leaf-disease-classification\n",
    "\n",
    "## Source Data\n",
    "\n",
    "As this is an exploratory Kaggle notebook, I've just loaded in the hosted `cassava-leaf-diesease-classification` dataset in here.  The final script will need some data loading logic, so that it can be submitted for testing/marking purposes."
   ]
  },
  {
   "cell_type": "code",
   "execution_count": 2,
   "id": "de250429",
   "metadata": {
    "execution": {
     "iopub.execute_input": "2024-02-16T22:39:38.061004Z",
     "iopub.status.busy": "2024-02-16T22:39:38.060449Z",
     "iopub.status.idle": "2024-02-16T22:39:38.065677Z",
     "shell.execute_reply": "2024-02-16T22:39:38.064872Z"
    },
    "papermill": {
     "duration": 0.013731,
     "end_time": "2024-02-16T22:39:38.067547",
     "exception": false,
     "start_time": "2024-02-16T22:39:38.053816",
     "status": "completed"
    },
    "tags": []
   },
   "outputs": [],
   "source": [
    "SOURCE_DATA = Path(\"/kaggle/input/cassava-leaf-disease-classification/\")\n",
    "\n",
    "WORKING_DATA = Path(\"/kaggle/working/data/elec0135-assignment-cld/\")\n",
    "WORKING_DATA.mkdir(parents=True, exist_ok=True)\n",
    "\n",
    "# Parameters\n",
    "BATCH_SIZE = 64\n",
    "VALIDATION_SPLIT = 0.25\n",
    "EPOCHS = 50"
   ]
  },
  {
   "cell_type": "markdown",
   "id": "54ca04a5",
   "metadata": {
    "papermill": {
     "duration": 0.005578,
     "end_time": "2024-02-16T22:39:38.078732",
     "exception": false,
     "start_time": "2024-02-16T22:39:38.073154",
     "status": "completed"
    },
    "tags": []
   },
   "source": [
    "## EDA\n",
    "\n",
    "### Class Balance\n",
    "\n",
    "There's a large class imbalance here, which will need taking into account during the training.  Initial thoughts are that this will be especially true if I end up using a binary-classification gate in a `Mixture of Experts` model."
   ]
  },
  {
   "cell_type": "code",
   "execution_count": 3,
   "id": "c3eaa011",
   "metadata": {
    "execution": {
     "iopub.execute_input": "2024-02-16T22:39:38.091505Z",
     "iopub.status.busy": "2024-02-16T22:39:38.090837Z",
     "iopub.status.idle": "2024-02-16T22:39:38.146028Z",
     "shell.execute_reply": "2024-02-16T22:39:38.145141Z"
    },
    "papermill": {
     "duration": 0.063878,
     "end_time": "2024-02-16T22:39:38.148330",
     "exception": false,
     "start_time": "2024-02-16T22:39:38.084452",
     "status": "completed"
    },
    "tags": []
   },
   "outputs": [
    {
     "data": {
      "text/html": [
       "<div>\n",
       "<style scoped>\n",
       "    .dataframe tbody tr th:only-of-type {\n",
       "        vertical-align: middle;\n",
       "    }\n",
       "\n",
       "    .dataframe tbody tr th {\n",
       "        vertical-align: top;\n",
       "    }\n",
       "\n",
       "    .dataframe thead th {\n",
       "        text-align: right;\n",
       "    }\n",
       "</style>\n",
       "<table border=\"1\" class=\"dataframe\">\n",
       "  <thead>\n",
       "    <tr style=\"text-align: right;\">\n",
       "      <th></th>\n",
       "      <th>image_id</th>\n",
       "    </tr>\n",
       "    <tr>\n",
       "      <th>label</th>\n",
       "      <th></th>\n",
       "    </tr>\n",
       "  </thead>\n",
       "  <tbody>\n",
       "    <tr>\n",
       "      <th>0</th>\n",
       "      <td>1087</td>\n",
       "    </tr>\n",
       "    <tr>\n",
       "      <th>1</th>\n",
       "      <td>2189</td>\n",
       "    </tr>\n",
       "    <tr>\n",
       "      <th>2</th>\n",
       "      <td>2386</td>\n",
       "    </tr>\n",
       "    <tr>\n",
       "      <th>3</th>\n",
       "      <td>13158</td>\n",
       "    </tr>\n",
       "    <tr>\n",
       "      <th>4</th>\n",
       "      <td>2577</td>\n",
       "    </tr>\n",
       "  </tbody>\n",
       "</table>\n",
       "</div>"
      ],
      "text/plain": [
       "       image_id\n",
       "label          \n",
       "0          1087\n",
       "1          2189\n",
       "2          2386\n",
       "3         13158\n",
       "4          2577"
      ]
     },
     "execution_count": 3,
     "metadata": {},
     "output_type": "execute_result"
    }
   ],
   "source": [
    "df_train = pd.read_csv(SOURCE_DATA / \"train.csv\")\n",
    "df_train.groupby(['label']).count()"
   ]
  },
  {
   "cell_type": "markdown",
   "id": "d0d352c3",
   "metadata": {
    "papermill": {
     "duration": 0.005905,
     "end_time": "2024-02-16T22:39:38.160532",
     "exception": false,
     "start_time": "2024-02-16T22:39:38.154627",
     "status": "completed"
    },
    "tags": []
   },
   "source": [
    "## Data Processing\n",
    "\n",
    "With only ~1000 instances of label/class `0`, my first thought is that some data augmentation is going to be required here.  I'm going to hold off with that first and see how a basic VGG-style network, such as that explored in the labs, fares.\n"
   ]
  },
  {
   "cell_type": "code",
   "execution_count": 4,
   "id": "066c9efe",
   "metadata": {
    "execution": {
     "iopub.execute_input": "2024-02-16T22:39:38.174988Z",
     "iopub.status.busy": "2024-02-16T22:39:38.174659Z",
     "iopub.status.idle": "2024-02-16T22:39:38.187726Z",
     "shell.execute_reply": "2024-02-16T22:39:38.186215Z"
    },
    "papermill": {
     "duration": 0.023574,
     "end_time": "2024-02-16T22:39:38.190078",
     "exception": false,
     "start_time": "2024-02-16T22:39:38.166504",
     "status": "completed"
    },
    "tags": []
   },
   "outputs": [],
   "source": [
    "def create_equal_split_dataset(df_map: pd.DataFrame) -> Path:\n",
    "    es_path = WORKING_DATA / \"equal_split\"\n",
    "    es_path.mkdir(parents=True, exist_ok=True)\n",
    "    \n",
    "    for lab in df_map.label.unique():\n",
    "        (es_path / str(lab)).mkdir(exist_ok=True)\n",
    "        \n",
    "    source_path = SOURCE_DATA / \"train_images\"\n",
    "    \n",
    "    # take n first items from each class\n",
    "    df_map['counter'] = 1\n",
    "    df_map['class_count'] = df_map[['label', 'counter']].groupby(['label']).cumsum()\n",
    "    \n",
    "    for index, row in df_map.iterrows():\n",
    "        lab = row[\"label\"]\n",
    "        image_id = row[\"image_id\"]\n",
    "        img = source_path / image_id\n",
    "        dest = es_path / str(lab) / image_id\n",
    "\n",
    "        class_count = row[\"class_count\"]\n",
    "        if class_count > 1087:\n",
    "            continue\n",
    "        shutil.copyfile(img, dest)\n",
    "        \n",
    "    return es_path\n",
    "\n",
    "\n",
    "def get_equal_split_dataset(path: Path):\n",
    "    # Load dataset\n",
    "    # categorical here means that the labels are one-hot encoded\n",
    "    ds_train_, ds_valid_ = image_dataset_from_directory(\n",
    "        path,\n",
    "        labels='inferred',\n",
    "        label_mode='categorical',\n",
    "        image_size=[120, 160],\n",
    "        batch_size=BATCH_SIZE,\n",
    "        shuffle=True,\n",
    "        validation_split=VALIDATION_SPLIT,\n",
    "        subset=\"both\",\n",
    "        seed=31415,\n",
    "    )   \n",
    "\n",
    "    # Data Pipeline\n",
    "    def convert_to_float(image, label):\n",
    "        image = tf.image.convert_image_dtype(image, dtype=tf.float32)\n",
    "        return image, label\n",
    "\n",
    "    AUTOTUNE = tf.data.experimental.AUTOTUNE\n",
    "    ds_train = (\n",
    "        ds_train_\n",
    "        .map(convert_to_float)\n",
    "        .cache()\n",
    "        .prefetch(buffer_size=AUTOTUNE)\n",
    "    )\n",
    "    ds_valid = (\n",
    "        ds_valid_\n",
    "        .map(convert_to_float)\n",
    "        .cache()\n",
    "        .prefetch(buffer_size=AUTOTUNE)\n",
    "    )\n",
    "    \n",
    "    return ds_train, ds_valid\n",
    "\n",
    "\n",
    "def plot_experiment_results(df_history: pd.DataFrame, exp_id: str) -> None:\n",
    "    df = df_history[df_history.exp_id == exp_id]\n",
    "    df[['loss', 'val_loss']].plot()\n",
    "    df[['accuracy', 'val_accuracy']].plot();"
   ]
  },
  {
   "cell_type": "code",
   "execution_count": 5,
   "id": "f21db97c",
   "metadata": {
    "execution": {
     "iopub.execute_input": "2024-02-16T22:39:38.210860Z",
     "iopub.status.busy": "2024-02-16T22:39:38.210510Z",
     "iopub.status.idle": "2024-02-16T22:40:40.557797Z",
     "shell.execute_reply": "2024-02-16T22:40:40.557003Z"
    },
    "papermill": {
     "duration": 62.359517,
     "end_time": "2024-02-16T22:40:40.560130",
     "exception": false,
     "start_time": "2024-02-16T22:39:38.200613",
     "status": "completed"
    },
    "tags": []
   },
   "outputs": [
    {
     "name": "stdout",
     "output_type": "stream",
     "text": [
      "Found 5435 files belonging to 5 classes.\n",
      "Using 4077 files for training.\n",
      "Using 1358 files for validation.\n"
     ]
    }
   ],
   "source": [
    "# need to add some optimisation here to avoid re-create files if already exist\n",
    "dataset_path = create_equal_split_dataset(df_train)\n",
    "\n",
    "ds_train, ds_valid = get_equal_split_dataset(dataset_path)"
   ]
  },
  {
   "cell_type": "markdown",
   "id": "56961ab0",
   "metadata": {
    "execution": {
     "iopub.execute_input": "2024-02-16T16:24:48.803778Z",
     "iopub.status.busy": "2024-02-16T16:24:48.803385Z",
     "iopub.status.idle": "2024-02-16T16:24:48.807999Z",
     "shell.execute_reply": "2024-02-16T16:24:48.807068Z",
     "shell.execute_reply.started": "2024-02-16T16:24:48.803746Z"
    },
    "papermill": {
     "duration": 0.00621,
     "end_time": "2024-02-16T22:40:40.573043",
     "exception": false,
     "start_time": "2024-02-16T22:40:40.566833",
     "status": "completed"
    },
    "tags": []
   },
   "source": [
    "### Model"
   ]
  },
  {
   "cell_type": "code",
   "execution_count": 6,
   "id": "ae430d04",
   "metadata": {
    "execution": {
     "iopub.execute_input": "2024-02-16T22:40:40.588355Z",
     "iopub.status.busy": "2024-02-16T22:40:40.587623Z",
     "iopub.status.idle": "2024-02-16T22:40:40.591559Z",
     "shell.execute_reply": "2024-02-16T22:40:40.590701Z"
    },
    "papermill": {
     "duration": 0.013163,
     "end_time": "2024-02-16T22:40:40.593462",
     "exception": false,
     "start_time": "2024-02-16T22:40:40.580299",
     "status": "completed"
    },
    "tags": []
   },
   "outputs": [],
   "source": [
    "# df_experiment = pd.DataFrame(columns=[\"exp_id\", \"desc\", \"batch_size\", \"img_width\", \"img_height\", \"model\"])\n",
    "# df_history = pd.DataFrame(columns=[\"loss\", \"accuracy\", \"val_loss\", \"val_accuracy\"])"
   ]
  },
  {
   "cell_type": "code",
   "execution_count": 7,
   "id": "6ad57c78",
   "metadata": {
    "execution": {
     "iopub.execute_input": "2024-02-16T22:40:40.607182Z",
     "iopub.status.busy": "2024-02-16T22:40:40.606900Z",
     "iopub.status.idle": "2024-02-16T22:40:40.617812Z",
     "shell.execute_reply": "2024-02-16T22:40:40.616990Z"
    },
    "papermill": {
     "duration": 0.020153,
     "end_time": "2024-02-16T22:40:40.619728",
     "exception": false,
     "start_time": "2024-02-16T22:40:40.599575",
     "status": "completed"
    },
    "tags": []
   },
   "outputs": [],
   "source": [
    "# quick convnet, similar to that used here: https://www.kaggle.com/code/ryanholbrook/custom-convnets\n",
    "def create_simple_model() -> Model:\n",
    "    return keras.Sequential([\n",
    "\n",
    "        # First Convolutional Block\n",
    "        layers.Conv2D(filters=32, kernel_size=5, activation=\"relu\", padding='same',\n",
    "                      # give the input dimensions in the first layer\n",
    "                      # [height, width, color channels(RGB)]\n",
    "                      input_shape=[120, 160, 3]),\n",
    "        layers.BatchNormalization(renorm=True),\n",
    "        layers.Conv2D(filters=32, kernel_size=3, activation=\"relu\", padding='same'),\n",
    "        layers.MaxPool2D(),\n",
    "        layers.Dropout(0.2),\n",
    "\n",
    "        # Second Convolutional Block\n",
    "        layers.Conv2D(filters=64, kernel_size=3, activation=\"relu\", padding='same'),\n",
    "        layers.Conv2D(filters=64, kernel_size=3, activation=\"relu\", padding='same'),\n",
    "        layers.MaxPool2D(),\n",
    "        layers.Dropout(0.2),\n",
    "\n",
    "        # Third Convolutional Block\n",
    "        layers.Conv2D(filters=128, kernel_size=3, activation=\"relu\", padding='same'),\n",
    "        layers.Conv2D(filters=128, kernel_size=3, activation=\"relu\", padding='same'),\n",
    "        layers.Conv2D(filters=128, kernel_size=3, activation=\"relu\", padding='same'),\n",
    "        layers.MaxPool2D(),\n",
    "        layers.Dropout(0.2),\n",
    "\n",
    "        # Fourth Convolutional Block\n",
    "        layers.Conv2D(filters=256, kernel_size=3, activation=\"relu\", padding='same'),\n",
    "        layers.Conv2D(filters=256, kernel_size=3, activation=\"relu\", padding='same'),\n",
    "        layers.Conv2D(filters=256, kernel_size=3, activation=\"relu\", padding='same'),\n",
    "        layers.MaxPool2D(),\n",
    "        layers.Dropout(0.2),\n",
    "\n",
    "        # Classifier Head\n",
    "        layers.Flatten(),\n",
    "        layers.Dense(512, activation='relu'),\n",
    "        layers.Dropout(0.2),\n",
    "        layers.Dense(512, activation='relu'),\n",
    "        layers.Dropout(0.2),\n",
    "        layers.Dense(units=5, activation=\"softmax\"),\n",
    "    ])"
   ]
  },
  {
   "cell_type": "code",
   "execution_count": 8,
   "id": "aaf03803",
   "metadata": {
    "execution": {
     "iopub.execute_input": "2024-02-16T22:40:40.633260Z",
     "iopub.status.busy": "2024-02-16T22:40:40.632942Z",
     "iopub.status.idle": "2024-02-16T22:40:40.644086Z",
     "shell.execute_reply": "2024-02-16T22:40:40.643382Z"
    },
    "papermill": {
     "duration": 0.020127,
     "end_time": "2024-02-16T22:40:40.646056",
     "exception": false,
     "start_time": "2024-02-16T22:40:40.625929",
     "status": "completed"
    },
    "tags": []
   },
   "outputs": [],
   "source": [
    "# similar to above, but with batchnormalisation added\n",
    "def create_simple_model_bn() -> Model:\n",
    "    return keras.Sequential([\n",
    "\n",
    "        # First Convolutional Block ([height, width, color channels(RGB)])\n",
    "        layers.Conv2D(filters=32, kernel_size=5, activation=\"relu\", padding='same',\n",
    "                      input_shape=[120, 160, 3]),\n",
    "        layers.BatchNormalization(renorm=True),\n",
    "        layers.Conv2D(filters=32, kernel_size=3, activation=\"relu\", padding='same'),\n",
    "        layers.MaxPool2D(),\n",
    "        layers.Dropout(0.2),\n",
    "\n",
    "        # Second Convolutional Block\n",
    "        layers.Conv2D(filters=64, kernel_size=3, activation=\"relu\", padding='same'),\n",
    "        layers.Conv2D(filters=64, kernel_size=3, activation=\"relu\", padding='same'),\n",
    "        layers.MaxPool2D(),\n",
    "        layers.Dropout(0.2),\n",
    "\n",
    "        # Third Convolutional Block\n",
    "        layers.Conv2D(filters=128, kernel_size=3, activation=\"relu\", padding='same'),\n",
    "        layers.Conv2D(filters=128, kernel_size=3, activation=\"relu\", padding='same'),\n",
    "        layers.Conv2D(filters=128, kernel_size=3, activation=\"relu\", padding='same'),\n",
    "        layers.MaxPool2D(),\n",
    "        layers.Dropout(0.2),\n",
    "\n",
    "        # Fourth Convolutional Block\n",
    "        layers.Conv2D(filters=256, kernel_size=3, activation=\"relu\", padding='same'),\n",
    "        layers.Conv2D(filters=256, kernel_size=3, activation=\"relu\", padding='same'),\n",
    "        layers.Conv2D(filters=256, kernel_size=3, activation=\"relu\", padding='same'),\n",
    "        layers.MaxPool2D(),\n",
    "        layers.Dropout(0.2),\n",
    "\n",
    "        # Classifier Head\n",
    "        layers.Flatten(),\n",
    "        layers.Dense(512, activation='relu'),\n",
    "        layers.Dropout(0.2),\n",
    "        layers.Dense(512, activation='relu'),\n",
    "        layers.Dropout(0.2),\n",
    "        layers.Dense(units=5, activation=\"softmax\"),\n",
    "    ])"
   ]
  },
  {
   "cell_type": "code",
   "execution_count": 9,
   "id": "9655c81d",
   "metadata": {
    "execution": {
     "iopub.execute_input": "2024-02-16T22:40:40.659606Z",
     "iopub.status.busy": "2024-02-16T22:40:40.659344Z",
     "iopub.status.idle": "2024-02-16T22:40:40.666335Z",
     "shell.execute_reply": "2024-02-16T22:40:40.665470Z"
    },
    "papermill": {
     "duration": 0.016017,
     "end_time": "2024-02-16T22:40:40.668256",
     "exception": false,
     "start_time": "2024-02-16T22:40:40.652239",
     "status": "completed"
    },
    "tags": []
   },
   "outputs": [],
   "source": [
    "def run_experiment(exp_id: str, model_fn: str, ds_train_, ds_valid_):\n",
    "    \n",
    "    #data = {\"exp_id\":\"1\", \"desc\":\"something\", \"batch_size\":BATCH_SIZE, \"img_width\":0, \"img_height\":0, \"model\": model_str}\n",
    "    #df_experiment = pd.concat([pd.DataFrame([data]), df_experiment])\n",
    "    \n",
    "    model = model_fn()\n",
    "    \n",
    "    model.compile(\n",
    "        optimizer=tf.keras.optimizers.Adam(epsilon=0.005),\n",
    "        loss=\"categorical_crossentropy\",\n",
    "        metrics=['accuracy']\n",
    "    )\n",
    "\n",
    "    early_stopping = callbacks.EarlyStopping(\n",
    "        min_delta=0.0001,\n",
    "        patience=10,\n",
    "        restore_best_weights=True,\n",
    "    )\n",
    "\n",
    "    history = model.fit(\n",
    "        ds_train_,\n",
    "        validation_data=ds_valid_,\n",
    "        epochs=EPOCHS,\n",
    "        verbose=1,\n",
    "        callbacks=[early_stopping],\n",
    "    )\n",
    "    \n",
    "    df_hist = pd.DataFrame(history.history)\n",
    "    df_hist = df_hist.reset_index()\n",
    "    df_hist[\"exp_id\"] = exp_id\n",
    "    df_hist[\"epoch\"] = df_hist.index\n",
    "   \n",
    "    return model, df_hist"
   ]
  },
  {
   "cell_type": "code",
   "execution_count": 10,
   "id": "051cd6d0",
   "metadata": {
    "execution": {
     "iopub.execute_input": "2024-02-16T22:40:40.681849Z",
     "iopub.status.busy": "2024-02-16T22:40:40.681538Z",
     "iopub.status.idle": "2024-02-16T22:44:10.914183Z",
     "shell.execute_reply": "2024-02-16T22:44:10.912937Z"
    },
    "papermill": {
     "duration": 210.242386,
     "end_time": "2024-02-16T22:44:10.916924",
     "exception": false,
     "start_time": "2024-02-16T22:40:40.674538",
     "status": "completed"
    },
    "tags": []
   },
   "outputs": [
    {
     "name": "stdout",
     "output_type": "stream",
     "text": [
      "Epoch 1/50\n"
     ]
    },
    {
     "name": "stderr",
     "output_type": "stream",
     "text": [
      "2024-02-16 22:40:43.170714: E tensorflow/core/grappler/optimizers/meta_optimizer.cc:961] layout failed: INVALID_ARGUMENT: Size of values 0 does not match size of permutation 4 @ fanin shape insequential/dropout/dropout/SelectV2-2-TransposeNHWCToNCHW-LayoutOptimizer\n",
      "WARNING: All log messages before absl::InitializeLog() is called are written to STDERR\n",
      "I0000 00:00:1708123248.192523      74 device_compiler.h:186] Compiled cluster using XLA!  This line is logged at most once for the lifetime of the process.\n"
     ]
    },
    {
     "name": "stdout",
     "output_type": "stream",
     "text": [
      "64/64 [==============================] - 24s 179ms/step - loss: 2.3098 - accuracy: 0.2065 - val_loss: 1.6087 - val_accuracy: 0.2290\n",
      "Epoch 2/50\n",
      "64/64 [==============================] - 7s 108ms/step - loss: 1.6092 - accuracy: 0.1908 - val_loss: 1.6090 - val_accuracy: 0.1922\n",
      "Epoch 3/50\n",
      "64/64 [==============================] - 7s 109ms/step - loss: 1.6082 - accuracy: 0.2144 - val_loss: 1.6070 - val_accuracy: 0.2084\n",
      "Epoch 4/50\n",
      "64/64 [==============================] - 7s 108ms/step - loss: 1.5900 - accuracy: 0.2487 - val_loss: 1.5842 - val_accuracy: 0.2916\n",
      "Epoch 5/50\n",
      "64/64 [==============================] - 7s 109ms/step - loss: 1.5217 - accuracy: 0.2938 - val_loss: 1.5727 - val_accuracy: 0.2769\n",
      "Epoch 6/50\n",
      "64/64 [==============================] - 7s 108ms/step - loss: 1.4871 - accuracy: 0.3081 - val_loss: 1.5279 - val_accuracy: 0.3233\n",
      "Epoch 7/50\n",
      "64/64 [==============================] - 7s 107ms/step - loss: 1.4502 - accuracy: 0.3358 - val_loss: 1.5986 - val_accuracy: 0.2909\n",
      "Epoch 8/50\n",
      "64/64 [==============================] - 7s 108ms/step - loss: 1.4260 - accuracy: 0.3679 - val_loss: 1.4465 - val_accuracy: 0.3704\n",
      "Epoch 9/50\n",
      "64/64 [==============================] - 7s 108ms/step - loss: 1.4100 - accuracy: 0.3615 - val_loss: 1.4452 - val_accuracy: 0.3483\n",
      "Epoch 10/50\n",
      "64/64 [==============================] - 7s 108ms/step - loss: 1.3882 - accuracy: 0.3780 - val_loss: 1.4567 - val_accuracy: 0.3594\n",
      "Epoch 11/50\n",
      "64/64 [==============================] - 7s 107ms/step - loss: 1.3892 - accuracy: 0.3861 - val_loss: 1.4567 - val_accuracy: 0.3321\n",
      "Epoch 12/50\n",
      "64/64 [==============================] - 7s 107ms/step - loss: 1.3745 - accuracy: 0.3944 - val_loss: 1.4705 - val_accuracy: 0.3328\n",
      "Epoch 13/50\n",
      "64/64 [==============================] - 7s 107ms/step - loss: 1.3630 - accuracy: 0.3944 - val_loss: 1.4846 - val_accuracy: 0.3549\n",
      "Epoch 14/50\n",
      "64/64 [==============================] - 7s 108ms/step - loss: 1.3557 - accuracy: 0.4064 - val_loss: 1.5505 - val_accuracy: 0.3019\n",
      "Epoch 15/50\n",
      "64/64 [==============================] - 7s 107ms/step - loss: 1.3578 - accuracy: 0.4042 - val_loss: 1.4798 - val_accuracy: 0.3579\n",
      "Epoch 16/50\n",
      "64/64 [==============================] - 7s 108ms/step - loss: 1.3332 - accuracy: 0.4106 - val_loss: 1.4390 - val_accuracy: 0.3711\n",
      "Epoch 17/50\n",
      "64/64 [==============================] - 7s 107ms/step - loss: 1.3159 - accuracy: 0.4285 - val_loss: 1.4723 - val_accuracy: 0.3571\n",
      "Epoch 18/50\n",
      "64/64 [==============================] - 7s 108ms/step - loss: 1.3145 - accuracy: 0.4324 - val_loss: 1.4337 - val_accuracy: 0.3807\n",
      "Epoch 19/50\n",
      "64/64 [==============================] - 7s 107ms/step - loss: 1.3068 - accuracy: 0.4359 - val_loss: 1.5666 - val_accuracy: 0.3225\n",
      "Epoch 20/50\n",
      "64/64 [==============================] - 7s 107ms/step - loss: 1.2903 - accuracy: 0.4341 - val_loss: 1.4581 - val_accuracy: 0.3557\n",
      "Epoch 21/50\n",
      "64/64 [==============================] - 7s 107ms/step - loss: 1.2863 - accuracy: 0.4368 - val_loss: 1.5164 - val_accuracy: 0.3527\n",
      "Epoch 22/50\n",
      "64/64 [==============================] - 7s 107ms/step - loss: 1.2721 - accuracy: 0.4410 - val_loss: 1.5071 - val_accuracy: 0.3387\n",
      "Epoch 23/50\n",
      "64/64 [==============================] - 7s 107ms/step - loss: 1.2431 - accuracy: 0.4594 - val_loss: 1.7715 - val_accuracy: 0.2953\n",
      "Epoch 24/50\n",
      "64/64 [==============================] - 7s 107ms/step - loss: 1.2711 - accuracy: 0.4444 - val_loss: 1.4821 - val_accuracy: 0.3505\n",
      "Epoch 25/50\n",
      "64/64 [==============================] - 7s 107ms/step - loss: 1.1848 - accuracy: 0.4923 - val_loss: 1.6367 - val_accuracy: 0.3071\n",
      "Epoch 26/50\n",
      "64/64 [==============================] - 7s 107ms/step - loss: 1.2121 - accuracy: 0.4817 - val_loss: 1.7085 - val_accuracy: 0.3203\n",
      "Epoch 27/50\n",
      "64/64 [==============================] - 7s 107ms/step - loss: 1.1746 - accuracy: 0.5090 - val_loss: 1.5395 - val_accuracy: 0.3432\n",
      "Epoch 28/50\n",
      "64/64 [==============================] - 7s 109ms/step - loss: 1.2004 - accuracy: 0.4837 - val_loss: 1.7765 - val_accuracy: 0.3071\n"
     ]
    }
   ],
   "source": [
    "(m, df_hist) = run_experiment(\"1\", create_simple_model, ds_train, ds_valid)"
   ]
  },
  {
   "cell_type": "code",
   "execution_count": 11,
   "id": "5fcfdf91",
   "metadata": {
    "execution": {
     "iopub.execute_input": "2024-02-16T22:44:11.271788Z",
     "iopub.status.busy": "2024-02-16T22:44:11.271418Z",
     "iopub.status.idle": "2024-02-16T22:44:11.275871Z",
     "shell.execute_reply": "2024-02-16T22:44:11.274987Z"
    },
    "papermill": {
     "duration": 0.160497,
     "end_time": "2024-02-16T22:44:11.277793",
     "exception": false,
     "start_time": "2024-02-16T22:44:11.117296",
     "status": "completed"
    },
    "tags": []
   },
   "outputs": [],
   "source": [
    "df_history = df_hist\n",
    "\n",
    "# data = pd.DataFrame([{\"id\":1, \"desc\":\"something\", \"batch_size\":BATCH_SIZE, \"img_width\":0, \"img_height\":0, \"model\": \"x\"}])\n",
    "# if not df_experiment.empty:\n",
    "#     df_experiment = pd.concat([df_experiment, data])\n",
    "# else:\n",
    "#     df_experiment = data"
   ]
  },
  {
   "cell_type": "code",
   "execution_count": 12,
   "id": "1b4b49f0",
   "metadata": {
    "execution": {
     "iopub.execute_input": "2024-02-16T22:44:11.578893Z",
     "iopub.status.busy": "2024-02-16T22:44:11.578542Z",
     "iopub.status.idle": "2024-02-16T22:46:54.634316Z",
     "shell.execute_reply": "2024-02-16T22:46:54.633504Z"
    },
    "papermill": {
     "duration": 163.209743,
     "end_time": "2024-02-16T22:46:54.636454",
     "exception": false,
     "start_time": "2024-02-16T22:44:11.426711",
     "status": "completed"
    },
    "tags": []
   },
   "outputs": [
    {
     "name": "stdout",
     "output_type": "stream",
     "text": [
      "Epoch 1/50\n"
     ]
    },
    {
     "name": "stderr",
     "output_type": "stream",
     "text": [
      "2024-02-16 22:44:13.775018: E tensorflow/core/grappler/optimizers/meta_optimizer.cc:961] layout failed: INVALID_ARGUMENT: Size of values 0 does not match size of permutation 4 @ fanin shape insequential_1/dropout_6/dropout/SelectV2-2-TransposeNHWCToNCHW-LayoutOptimizer\n"
     ]
    },
    {
     "name": "stdout",
     "output_type": "stream",
     "text": [
      "64/64 [==============================] - 11s 113ms/step - loss: 2.1037 - accuracy: 0.2119 - val_loss: 1.6076 - val_accuracy: 0.1944\n",
      "Epoch 2/50\n",
      "64/64 [==============================] - 7s 108ms/step - loss: 1.6012 - accuracy: 0.2244 - val_loss: 1.5801 - val_accuracy: 0.2541\n",
      "Epoch 3/50\n",
      "64/64 [==============================] - 7s 108ms/step - loss: 1.5355 - accuracy: 0.2899 - val_loss: 1.5445 - val_accuracy: 0.2747\n",
      "Epoch 4/50\n",
      "64/64 [==============================] - 7s 108ms/step - loss: 1.4835 - accuracy: 0.3206 - val_loss: 1.5652 - val_accuracy: 0.2894\n",
      "Epoch 5/50\n",
      "64/64 [==============================] - 7s 107ms/step - loss: 1.4592 - accuracy: 0.3375 - val_loss: 1.5449 - val_accuracy: 0.3049\n",
      "Epoch 6/50\n",
      "64/64 [==============================] - 7s 108ms/step - loss: 1.4474 - accuracy: 0.3520 - val_loss: 1.5314 - val_accuracy: 0.3049\n",
      "Epoch 7/50\n",
      "64/64 [==============================] - 7s 108ms/step - loss: 1.4118 - accuracy: 0.3767 - val_loss: 1.5034 - val_accuracy: 0.3409\n",
      "Epoch 8/50\n",
      "64/64 [==============================] - 7s 108ms/step - loss: 1.3839 - accuracy: 0.3893 - val_loss: 1.4685 - val_accuracy: 0.3513\n",
      "Epoch 9/50\n",
      "64/64 [==============================] - 7s 109ms/step - loss: 1.3744 - accuracy: 0.3922 - val_loss: 1.4580 - val_accuracy: 0.3778\n",
      "Epoch 10/50\n",
      "64/64 [==============================] - 7s 107ms/step - loss: 1.3566 - accuracy: 0.4135 - val_loss: 1.4844 - val_accuracy: 0.3505\n",
      "Epoch 11/50\n",
      "64/64 [==============================] - 7s 107ms/step - loss: 1.3620 - accuracy: 0.4187 - val_loss: 1.4726 - val_accuracy: 0.3498\n",
      "Epoch 12/50\n",
      "64/64 [==============================] - 7s 107ms/step - loss: 1.3459 - accuracy: 0.4157 - val_loss: 1.4890 - val_accuracy: 0.3461\n",
      "Epoch 13/50\n",
      "64/64 [==============================] - 7s 108ms/step - loss: 1.3291 - accuracy: 0.4319 - val_loss: 1.4497 - val_accuracy: 0.3586\n",
      "Epoch 14/50\n",
      "64/64 [==============================] - 7s 107ms/step - loss: 1.3309 - accuracy: 0.4287 - val_loss: 1.4676 - val_accuracy: 0.3351\n",
      "Epoch 15/50\n",
      "64/64 [==============================] - 7s 107ms/step - loss: 1.2983 - accuracy: 0.4442 - val_loss: 1.4612 - val_accuracy: 0.3601\n",
      "Epoch 16/50\n",
      "64/64 [==============================] - 7s 107ms/step - loss: 1.2756 - accuracy: 0.4584 - val_loss: 1.5069 - val_accuracy: 0.3571\n",
      "Epoch 17/50\n",
      "64/64 [==============================] - 7s 108ms/step - loss: 1.2657 - accuracy: 0.4471 - val_loss: 1.4724 - val_accuracy: 0.3432\n",
      "Epoch 18/50\n",
      "64/64 [==============================] - 7s 107ms/step - loss: 1.2599 - accuracy: 0.4641 - val_loss: 1.4570 - val_accuracy: 0.3601\n",
      "Epoch 19/50\n",
      "64/64 [==============================] - 7s 107ms/step - loss: 1.2298 - accuracy: 0.4731 - val_loss: 1.4870 - val_accuracy: 0.3623\n",
      "Epoch 20/50\n",
      "64/64 [==============================] - 7s 107ms/step - loss: 1.1821 - accuracy: 0.4999 - val_loss: 1.5047 - val_accuracy: 0.3667\n",
      "Epoch 21/50\n",
      "64/64 [==============================] - 7s 107ms/step - loss: 1.1933 - accuracy: 0.4896 - val_loss: 1.5725 - val_accuracy: 0.3166\n",
      "Epoch 22/50\n",
      "64/64 [==============================] - 7s 108ms/step - loss: 1.2506 - accuracy: 0.4616 - val_loss: 1.5895 - val_accuracy: 0.3490\n",
      "Epoch 23/50\n",
      "64/64 [==============================] - 7s 109ms/step - loss: 1.1879 - accuracy: 0.4920 - val_loss: 1.5576 - val_accuracy: 0.3255\n"
     ]
    }
   ],
   "source": [
    "(m2, df_hist) = run_experiment(\"2\", create_simple_model_bn, ds_train, ds_valid)"
   ]
  },
  {
   "cell_type": "code",
   "execution_count": 13,
   "id": "7d33ebb9",
   "metadata": {
    "execution": {
     "iopub.execute_input": "2024-02-16T22:46:55.178706Z",
     "iopub.status.busy": "2024-02-16T22:46:55.178335Z",
     "iopub.status.idle": "2024-02-16T22:46:55.184054Z",
     "shell.execute_reply": "2024-02-16T22:46:55.183174Z"
    },
    "papermill": {
     "duration": 0.27674,
     "end_time": "2024-02-16T22:46:55.186086",
     "exception": false,
     "start_time": "2024-02-16T22:46:54.909346",
     "status": "completed"
    },
    "tags": []
   },
   "outputs": [],
   "source": [
    "df_history = pd.concat([df_history, df_hist])"
   ]
  },
  {
   "cell_type": "code",
   "execution_count": 14,
   "id": "3a042f7d",
   "metadata": {
    "execution": {
     "iopub.execute_input": "2024-02-16T22:46:55.782922Z",
     "iopub.status.busy": "2024-02-16T22:46:55.782224Z",
     "iopub.status.idle": "2024-02-16T22:46:56.074439Z",
     "shell.execute_reply": "2024-02-16T22:46:56.073496Z"
    },
    "papermill": {
     "duration": 0.618666,
     "end_time": "2024-02-16T22:46:56.076873",
     "exception": false,
     "start_time": "2024-02-16T22:46:55.458207",
     "status": "completed"
    },
    "tags": []
   },
   "outputs": [
    {
     "name": "stderr",
     "output_type": "stream",
     "text": [
      "/opt/conda/lib/python3.10/site-packages/seaborn/_oldcore.py:1119: FutureWarning: use_inf_as_na option is deprecated and will be removed in a future version. Convert inf values to NaN before operating instead.\n",
      "  with pd.option_context('mode.use_inf_as_na', True):\n",
      "/opt/conda/lib/python3.10/site-packages/seaborn/_oldcore.py:1119: FutureWarning: use_inf_as_na option is deprecated and will be removed in a future version. Convert inf values to NaN before operating instead.\n",
      "  with pd.option_context('mode.use_inf_as_na', True):\n",
      "/opt/conda/lib/python3.10/site-packages/seaborn/_oldcore.py:1075: FutureWarning: When grouping with a length-1 list-like, you will need to pass a length-1 tuple to get_group in a future version of pandas. Pass `(name,)` instead of `name` to silence this warning.\n",
      "  data_subset = grouped_data.get_group(pd_key)\n",
      "/opt/conda/lib/python3.10/site-packages/seaborn/_oldcore.py:1075: FutureWarning: When grouping with a length-1 list-like, you will need to pass a length-1 tuple to get_group in a future version of pandas. Pass `(name,)` instead of `name` to silence this warning.\n",
      "  data_subset = grouped_data.get_group(pd_key)\n"
     ]
    },
    {
     "data": {
      "text/plain": [
       "<Axes: xlabel='epoch', ylabel='val_accuracy'>"
      ]
     },
     "execution_count": 14,
     "metadata": {},
     "output_type": "execute_result"
    },
    {
     "data": {
      "image/png": "[encoded data removed]",
      "text/plain": [
       "<Figure size 640x480 with 1 Axes>"
      ]
     },
     "metadata": {},
     "output_type": "display_data"
    }
   ],
   "source": [
    "sns.lineplot(data=df_history, x=\"epoch\", y=\"val_accuracy\", hue=\"exp_id\")"
   ]
  },
  {
   "cell_type": "code",
   "execution_count": 15,
   "id": "19bff1e3",
   "metadata": {
    "execution": {
     "iopub.execute_input": "2024-02-16T22:46:56.618753Z",
     "iopub.status.busy": "2024-02-16T22:46:56.618041Z",
     "iopub.status.idle": "2024-02-16T22:46:57.037289Z",
     "shell.execute_reply": "2024-02-16T22:46:57.036408Z"
    },
    "papermill": {
     "duration": 0.691448,
     "end_time": "2024-02-16T22:46:57.039560",
     "exception": false,
     "start_time": "2024-02-16T22:46:56.348112",
     "status": "completed"
    },
    "tags": []
   },
   "outputs": [
    {
     "data": {
      "image/png": "[encoded data removed]",
      "text/plain": [
       "<Figure size 640x480 with 1 Axes>"
      ]
     },
     "metadata": {},
     "output_type": "display_data"
    },
    {
     "data": {
      "image/png": "[encoded data removed]",
      "text/plain": [
       "<Figure size 640x480 with 1 Axes>"
      ]
     },
     "metadata": {},
     "output_type": "display_data"
    }
   ],
   "source": [
    "plot_experiment_results(df_history, \"1\")"
   ]
  },
  {
   "cell_type": "markdown",
   "id": "ae4aea1a",
   "metadata": {
    "execution": {
     "iopub.execute_input": "2024-02-15T10:45:43.757158Z",
     "iopub.status.busy": "2024-02-15T10:45:43.756318Z",
     "iopub.status.idle": "2024-02-15T10:45:43.762785Z",
     "shell.execute_reply": "2024-02-15T10:45:43.761632Z",
     "shell.execute_reply.started": "2024-02-15T10:45:43.757123Z"
    },
    "papermill": {
     "duration": 0.271176,
     "end_time": "2024-02-16T22:46:57.580690",
     "exception": false,
     "start_time": "2024-02-16T22:46:57.309514",
     "status": "completed"
    },
    "tags": []
   },
   "source": [
    "Useful links found so far:\n",
    "    \n",
    "https://keras.io/api/data_loading/image/\n",
    "\n",
    "https://www.tensorflow.org/api_docs/python/tf/keras/utils/image_dataset_from_directory\n",
    "\n",
    "https://keras.io/api/applications/vgg/\n",
    "\n",
    "https://keras.io/api/applications/mobilenet/#mobilenetv2-function\n",
    "\n",
    "https://keras.io/api/models/model_training_apis/\n",
    "\n",
    "https://stackoverflow.com/questions/66715975/class-weights-in-cnn\n",
    "\n",
    "https://www.kaggle.com/code/ryanholbrook/overfitting-and-underfitting"
   ]
  }
 ],
 "metadata": {
  "kaggle": {
   "accelerator": "gpu",
   "dataSources": [
    {
     "databundleVersionId": 1718836,
     "sourceId": 13836,
     "sourceType": "competition"
    }
   ],
   "dockerImageVersionId": 30646,
   "isGpuEnabled": true,
   "isInternetEnabled": true,
   "language": "python",
   "sourceType": "notebook"
  },
  "kernelspec": {
   "display_name": "Python 3",
   "language": "python",
   "name": "python3"
  },
  "language_info": {
   "codemirror_mode": {
    "name": "ipython",
    "version": 3
   },
   "file_extension": ".py",
   "mimetype": "text/x-python",
   "name": "python",
   "nbconvert_exporter": "python",
   "pygments_lexer": "ipython3",
   "version": "3.10.13"
  },
  "papermill": {
   "default_parameters": {},
   "duration": 459.448111,
   "end_time": "2024-02-16T22:47:00.292077",
   "environment_variables": {},
   "exception": null,
   "input_path": "__notebook__.ipynb",
   "output_path": "__notebook__.ipynb",
   "parameters": {},
   "start_time": "2024-02-16T22:39:20.843966",
   "version": "2.5.0"
  }
 },
 "nbformat": 4,
 "nbformat_minor": 5
}
