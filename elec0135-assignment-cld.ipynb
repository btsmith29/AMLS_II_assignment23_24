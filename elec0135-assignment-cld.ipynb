{
 "cells": [
  {
   "cell_type": "code",
   "execution_count": 1,
   "id": "1776e42b",
   "metadata": {
    "execution": {
     "iopub.execute_input": "2024-02-15T14:44:21.997198Z",
     "iopub.status.busy": "2024-02-15T14:44:21.996838Z",
     "iopub.status.idle": "2024-02-15T14:44:22.792542Z",
     "shell.execute_reply": "2024-02-15T14:44:22.791680Z"
    },
    "papermill": {
     "duration": 0.802585,
     "end_time": "2024-02-15T14:44:22.795098",
     "exception": false,
     "start_time": "2024-02-15T14:44:21.992513",
     "status": "completed"
    },
    "tags": []
   },
   "outputs": [],
   "source": [
    "import numpy as np\n",
    "import pandas as pd"
   ]
  },
  {
   "cell_type": "markdown",
   "id": "8709ebd6",
   "metadata": {
    "papermill": {
     "duration": 0.002294,
     "end_time": "2024-02-15T14:44:22.800226",
     "exception": false,
     "start_time": "2024-02-15T14:44:22.797932",
     "status": "completed"
    },
    "tags": []
   },
   "source": [
    "# ELEC0135 Assignment\n",
    "\n",
    "## Introduction\n",
    "\n",
    "Based on the competition here: https://www.kaggle.com/competitions/cassava-leaf-disease-classification\n",
    "\n",
    "## Data\n",
    "\n",
    "As this is an exploratory Kaggle notebook, I've just loaded in the hosted `cassava-leaf-diesease-classification` dataset in here.  The final script will need some data loading logic, so that it can be submitted for testing/marking purposes.\n",
    "\n",
    "## EDA\n",
    "\n",
    "### Class Balance\n",
    "\n",
    "There's a large class imbalance here, which will need taking into account during the training.  Initial thoughts are that this will be especially true if I end up using a binary-classification gate in a `Mixture of Experts` model."
   ]
  },
  {
   "cell_type": "markdown",
   "id": "01f67f1c",
   "metadata": {
    "papermill": {
     "duration": 0.002055,
     "end_time": "2024-02-15T14:44:22.804588",
     "exception": false,
     "start_time": "2024-02-15T14:44:22.802533",
     "status": "completed"
    },
    "tags": []
   },
   "source": [
    "## EDA\n",
    "\n",
    "### Class Balance\n",
    "\n",
    "There's a large class imbalance here, which will need taking into account during the training.  Initial thoughts are that this will be especially true if I end up using a binary-classification gate in a `Mixture of Experts` model."
   ]
  },
  {
   "cell_type": "code",
   "execution_count": 2,
   "id": "a9134ba5",
   "metadata": {
    "execution": {
     "iopub.execute_input": "2024-02-15T14:44:22.811085Z",
     "iopub.status.busy": "2024-02-15T14:44:22.810596Z",
     "iopub.status.idle": "2024-02-15T14:44:22.864644Z",
     "shell.execute_reply": "2024-02-15T14:44:22.863788Z"
    },
    "papermill": {
     "duration": 0.059847,
     "end_time": "2024-02-15T14:44:22.866749",
     "exception": false,
     "start_time": "2024-02-15T14:44:22.806902",
     "status": "completed"
    },
    "tags": []
   },
   "outputs": [
    {
     "data": {
      "text/html": [
       "<div>\n",
       "<style scoped>\n",
       "    .dataframe tbody tr th:only-of-type {\n",
       "        vertical-align: middle;\n",
       "    }\n",
       "\n",
       "    .dataframe tbody tr th {\n",
       "        vertical-align: top;\n",
       "    }\n",
       "\n",
       "    .dataframe thead th {\n",
       "        text-align: right;\n",
       "    }\n",
       "</style>\n",
       "<table border=\"1\" class=\"dataframe\">\n",
       "  <thead>\n",
       "    <tr style=\"text-align: right;\">\n",
       "      <th></th>\n",
       "      <th>image_id</th>\n",
       "    </tr>\n",
       "    <tr>\n",
       "      <th>label</th>\n",
       "      <th></th>\n",
       "    </tr>\n",
       "  </thead>\n",
       "  <tbody>\n",
       "    <tr>\n",
       "      <th>0</th>\n",
       "      <td>1087</td>\n",
       "    </tr>\n",
       "    <tr>\n",
       "      <th>1</th>\n",
       "      <td>2189</td>\n",
       "    </tr>\n",
       "    <tr>\n",
       "      <th>2</th>\n",
       "      <td>2386</td>\n",
       "    </tr>\n",
       "    <tr>\n",
       "      <th>3</th>\n",
       "      <td>13158</td>\n",
       "    </tr>\n",
       "    <tr>\n",
       "      <th>4</th>\n",
       "      <td>2577</td>\n",
       "    </tr>\n",
       "  </tbody>\n",
       "</table>\n",
       "</div>"
      ],
      "text/plain": [
       "       image_id\n",
       "label          \n",
       "0          1087\n",
       "1          2189\n",
       "2          2386\n",
       "3         13158\n",
       "4          2577"
      ]
     },
     "execution_count": 2,
     "metadata": {},
     "output_type": "execute_result"
    }
   ],
   "source": [
    "df_mapping = pd.read_csv(\"/kaggle/input/cassava-leaf-disease-classification/train.csv\")\n",
    "df_mapping.groupby(['label']).count()"
   ]
  },
  {
   "cell_type": "markdown",
   "id": "d0c9129b",
   "metadata": {
    "execution": {
     "iopub.execute_input": "2024-02-15T10:45:43.757158Z",
     "iopub.status.busy": "2024-02-15T10:45:43.756318Z",
     "iopub.status.idle": "2024-02-15T10:45:43.762785Z",
     "shell.execute_reply": "2024-02-15T10:45:43.761632Z",
     "shell.execute_reply.started": "2024-02-15T10:45:43.757123Z"
    },
    "papermill": {
     "duration": 0.002396,
     "end_time": "2024-02-15T14:44:22.871769",
     "exception": false,
     "start_time": "2024-02-15T14:44:22.869373",
     "status": "completed"
    },
    "tags": []
   },
   "source": [
    "Useful links found so far:\n",
    "    \n",
    "https://keras.io/api/data_loading/image/\n",
    "\n",
    "https://www.tensorflow.org/api_docs/python/tf/keras/utils/image_dataset_from_directory\n",
    "\n",
    "https://keras.io/api/applications/vgg/\n",
    "\n",
    "https://keras.io/api/applications/mobilenet/#mobilenetv2-function\n",
    "\n",
    "https://keras.io/api/models/model_training_apis/\n",
    "\n",
    "https://stackoverflow.com/questions/66715975/class-weights-in-cnn\n",
    "\n",
    "https://www.kaggle.com/code/ryanholbrook/overfitting-and-underfitting"
   ]
  }
 ],
 "metadata": {
  "kaggle": {
   "accelerator": "gpu",
   "dataSources": [
    {
     "databundleVersionId": 1718836,
     "sourceId": 13836,
     "sourceType": "competition"
    }
   ],
   "dockerImageVersionId": 30646,
   "isGpuEnabled": true,
   "isInternetEnabled": true,
   "language": "python",
   "sourceType": "notebook"
  },
  "kernelspec": {
   "display_name": "Python 3",
   "language": "python",
   "name": "python3"
  },
  "language_info": {
   "codemirror_mode": {
    "name": "ipython",
    "version": 3
   },
   "file_extension": ".py",
   "mimetype": "text/x-python",
   "name": "python",
   "nbconvert_exporter": "python",
   "pygments_lexer": "ipython3",
   "version": "3.10.13"
  },
  "papermill": {
   "default_parameters": {},
   "duration": 4.39706,
   "end_time": "2024-02-15T14:44:23.292869",
   "environment_variables": {},
   "exception": null,
   "input_path": "__notebook__.ipynb",
   "output_path": "__notebook__.ipynb",
   "parameters": {},
   "start_time": "2024-02-15T14:44:18.895809",
   "version": "2.5.0"
  }
 },
 "nbformat": 4,
 "nbformat_minor": 5
}
