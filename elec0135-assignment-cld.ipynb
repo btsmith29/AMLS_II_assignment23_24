{
 "cells": [
  {
   "cell_type": "code",
   "execution_count": 1,
   "id": "b01d7218",
   "metadata": {
    "execution": {
     "iopub.execute_input": "2024-02-13T16:47:55.962257Z",
     "iopub.status.busy": "2024-02-13T16:47:55.961975Z",
     "iopub.status.idle": "2024-02-13T16:47:56.703640Z",
     "shell.execute_reply": "2024-02-13T16:47:56.702841Z"
    },
    "papermill": {
     "duration": 0.747002,
     "end_time": "2024-02-13T16:47:56.705897",
     "exception": false,
     "start_time": "2024-02-13T16:47:55.958895",
     "status": "completed"
    },
    "tags": []
   },
   "outputs": [],
   "source": [
    "import numpy as np\n",
    "import pandas as pd\n",
    "\n",
    "from kaggle_datasets import KaggleDatasets"
   ]
  },
  {
   "cell_type": "markdown",
   "id": "f8685a1b",
   "metadata": {
    "papermill": {
     "duration": 0.00132,
     "end_time": "2024-02-13T16:47:56.709021",
     "exception": false,
     "start_time": "2024-02-13T16:47:56.707701",
     "status": "completed"
    },
    "tags": []
   },
   "source": [
    "# Assignment"
   ]
  }
 ],
 "metadata": {
  "kaggle": {
   "accelerator": "gpu",
   "dataSources": [
    {
     "databundleVersionId": 1718836,
     "sourceId": 13836,
     "sourceType": "competition"
    }
   ],
   "dockerImageVersionId": 30648,
   "isGpuEnabled": true,
   "isInternetEnabled": true,
   "language": "python",
   "sourceType": "notebook"
  },
  "kernelspec": {
   "display_name": "Python 3",
   "language": "python",
   "name": "python3"
  },
  "language_info": {
   "codemirror_mode": {
    "name": "ipython",
    "version": 3
   },
   "file_extension": ".py",
   "mimetype": "text/x-python",
   "name": "python",
   "nbconvert_exporter": "python",
   "pygments_lexer": "ipython3",
   "version": "3.10.13"
  },
  "papermill": {
   "default_parameters": {},
   "duration": 3.723966,
   "end_time": "2024-02-13T16:47:57.029502",
   "environment_variables": {},
   "exception": null,
   "input_path": "__notebook__.ipynb",
   "output_path": "__notebook__.ipynb",
   "parameters": {},
   "start_time": "2024-02-13T16:47:53.305536",
   "version": "2.5.0"
  }
 },
 "nbformat": 4,
 "nbformat_minor": 5
}
